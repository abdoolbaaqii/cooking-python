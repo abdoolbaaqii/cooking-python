{
 "cells": [
  {
   "cell_type": "code",
   "execution_count": 1,
   "id": "c9afc9e9-4c36-4864-b9b1-186d4a42d2f7",
   "metadata": {},
   "outputs": [
    {
     "ename": "NameError",
     "evalue": "name 'yusuf' is not defined",
     "output_type": "error",
     "traceback": [
      "\u001b[31m---------------------------------------------------------------------------\u001b[39m",
      "\u001b[31mNameError\u001b[39m                                 Traceback (most recent call last)",
      "\u001b[36mCell\u001b[39m\u001b[36m \u001b[39m\u001b[32mIn[1]\u001b[39m\u001b[32m, line 1\u001b[39m\n\u001b[32m----> \u001b[39m\u001b[32m1\u001b[39m namee = \u001b[43myusuf\u001b[49m\n\u001b[32m      2\u001b[39m \u001b[38;5;28mprint\u001b[39m(namee)\n",
      "\u001b[31mNameError\u001b[39m: name 'yusuf' is not defined"
     ]
    }
   ],
   "source": [
    "namee = yusuf\n",
    "print(namee)"
   ]
  },
  {
   "cell_type": "code",
   "execution_count": 2,
   "id": "24a3e6d6-6757-4e06-b1b5-e04319a8c0fc",
   "metadata": {},
   "outputs": [
    {
     "ename": "NameError",
     "evalue": "name 'make_turle' is not defined",
     "output_type": "error",
     "traceback": [
      "\u001b[31m---------------------------------------------------------------------------\u001b[39m",
      "\u001b[31mNameError\u001b[39m                                 Traceback (most recent call last)",
      "\u001b[36mCell\u001b[39m\u001b[36m \u001b[39m\u001b[32mIn[2]\u001b[39m\u001b[32m, line 3\u001b[39m\n\u001b[32m      1\u001b[39m \u001b[38;5;28;01mfrom\u001b[39;00m\u001b[38;5;250m \u001b[39m\u001b[34;01mjupyturtle\u001b[39;00m\u001b[38;5;250m \u001b[39m\u001b[38;5;28;01mimport\u001b[39;00m make_turtle, forward\n\u001b[32m----> \u001b[39m\u001b[32m3\u001b[39m \u001b[43mmake_turle\u001b[49m()\n\u001b[32m      4\u001b[39m forward(\u001b[32m100\u001b[39m)\n",
      "\u001b[31mNameError\u001b[39m: name 'make_turle' is not defined"
     ]
    }
   ],
   "source": [
    "from jupyturtle import make_turtle, forward\n",
    "\n",
    "make_turle()\n",
    "forward(100)"
   ]
  },
  {
   "cell_type": "code",
   "execution_count": 4,
   "id": "d9fd1413-6c5d-4ac8-881e-3acb4bfc82f6",
   "metadata": {},
   "outputs": [
    {
     "data": {
      "text/html": [
       "<svg width=\"300\" height=\"150\" style=\"fill:none; stroke-linecap:round;\">\n",
       "    <rect width=\"100%\" height=\"100%\" fill=\"#F3F3F7\" />\n",
       "\n",
       "\n",
       "<path stroke=\"#663399\" stroke-width=\"2\" d=\"M 150,75 350,75\" />'\n",
       "\n",
       "<g transform=\"rotate(-90.0,350.0,75.0) translate(350.0, 75.0)\">\n",
       "    <circle stroke=\"#63A375\" stroke-width=\"2\" fill=\"transparent\" r=\"5.5\" cx=\"0\" cy=\"0\"/>\n",
       "    <polygon points=\"0,12 2,9 -2,9\" style=\"fill:#63A375;stroke:#63A375;stroke-width:2\"/>\n",
       "</g>\n",
       "\n",
       "</svg>"
      ],
      "text/plain": [
       "<IPython.core.display.HTML object>"
      ]
     },
     "metadata": {},
     "output_type": "display_data"
    }
   ],
   "source": [
    "import jupyturtle\n",
    "\n",
    "jupyturtle.make_turtle()\n",
    "jupyturtle.forward(200)"
   ]
  },
  {
   "cell_type": "code",
   "execution_count": null,
   "id": "e9b7133b-f6c7-448e-a0d1-473f75624735",
   "metadata": {},
   "outputs": [],
   "source": []
  }
 ],
 "metadata": {
  "kernelspec": {
   "display_name": "Python 3 (ipykernel)",
   "language": "python",
   "name": "python3"
  },
  "language_info": {
   "codemirror_mode": {
    "name": "ipython",
    "version": 3
   },
   "file_extension": ".py",
   "mimetype": "text/x-python",
   "name": "python",
   "nbconvert_exporter": "python",
   "pygments_lexer": "ipython3",
   "version": "3.13.2"
  }
 },
 "nbformat": 4,
 "nbformat_minor": 5
}
